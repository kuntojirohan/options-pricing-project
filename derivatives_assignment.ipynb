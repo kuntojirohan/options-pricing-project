{
 "cells": [
  {
   "cell_type": "code",
   "execution_count": 1,
   "id": "8a9b461c",
   "metadata": {},
   "outputs": [],
   "source": [
    "from scipy import optimize\n",
    "import numpy as np\n",
    "from scipy.stats import norm\n",
    "import pandas as pd\n",
    "import matplotlib.pyplot as plt"
   ]
  },
  {
   "cell_type": "code",
   "execution_count": 2,
   "id": "6d607109",
   "metadata": {},
   "outputs": [
    {
     "data": {
      "text/html": [
       "<div>\n",
       "<style scoped>\n",
       "    .dataframe tbody tr th:only-of-type {\n",
       "        vertical-align: middle;\n",
       "    }\n",
       "\n",
       "    .dataframe tbody tr th {\n",
       "        vertical-align: top;\n",
       "    }\n",
       "\n",
       "    .dataframe thead th {\n",
       "        text-align: right;\n",
       "    }\n",
       "</style>\n",
       "<table border=\"1\" class=\"dataframe\">\n",
       "  <thead>\n",
       "    <tr style=\"text-align: right;\">\n",
       "      <th></th>\n",
       "      <th>TradeDate</th>\n",
       "      <th>ExpiryDate</th>\n",
       "      <th>PutCall</th>\n",
       "      <th>Strikex1000</th>\n",
       "      <th>Strike</th>\n",
       "      <th>BidPrice</th>\n",
       "      <th>AskPrice</th>\n",
       "      <th>Volume</th>\n",
       "      <th>ImpliedVol</th>\n",
       "      <th>Delta</th>\n",
       "      <th>OpenInterest</th>\n",
       "      <th>Vega</th>\n",
       "      <th>Delete</th>\n",
       "    </tr>\n",
       "  </thead>\n",
       "  <tbody>\n",
       "    <tr>\n",
       "      <th>0</th>\n",
       "      <td>18-Mar-2004</td>\n",
       "      <td>17-Apr-2004</td>\n",
       "      <td>0</td>\n",
       "      <td>700000</td>\n",
       "      <td>700</td>\n",
       "      <td>422.5</td>\n",
       "      <td>424.5</td>\n",
       "      <td>0</td>\n",
       "      <td>0.86843</td>\n",
       "      <td>0.98006</td>\n",
       "      <td>1</td>\n",
       "      <td>14.202</td>\n",
       "      <td>N</td>\n",
       "    </tr>\n",
       "    <tr>\n",
       "      <th>1</th>\n",
       "      <td>18-Mar-2004</td>\n",
       "      <td>17-Apr-2004</td>\n",
       "      <td>0</td>\n",
       "      <td>725000</td>\n",
       "      <td>725</td>\n",
       "      <td>397.5</td>\n",
       "      <td>399.5</td>\n",
       "      <td>0</td>\n",
       "      <td>0.81016</td>\n",
       "      <td>0.97897</td>\n",
       "      <td>0</td>\n",
       "      <td>14.908</td>\n",
       "      <td>N</td>\n",
       "    </tr>\n",
       "    <tr>\n",
       "      <th>2</th>\n",
       "      <td>18-Mar-2004</td>\n",
       "      <td>17-Apr-2004</td>\n",
       "      <td>0</td>\n",
       "      <td>750000</td>\n",
       "      <td>750</td>\n",
       "      <td>372.5</td>\n",
       "      <td>374.5</td>\n",
       "      <td>0</td>\n",
       "      <td>0.75372</td>\n",
       "      <td>0.97776</td>\n",
       "      <td>0</td>\n",
       "      <td>15.674</td>\n",
       "      <td>N</td>\n",
       "    </tr>\n",
       "    <tr>\n",
       "      <th>3</th>\n",
       "      <td>18-Mar-2004</td>\n",
       "      <td>17-Apr-2004</td>\n",
       "      <td>0</td>\n",
       "      <td>775000</td>\n",
       "      <td>775</td>\n",
       "      <td>347.5</td>\n",
       "      <td>349.5</td>\n",
       "      <td>0</td>\n",
       "      <td>0.69894</td>\n",
       "      <td>0.97643</td>\n",
       "      <td>0</td>\n",
       "      <td>16.513</td>\n",
       "      <td>N</td>\n",
       "    </tr>\n",
       "    <tr>\n",
       "      <th>4</th>\n",
       "      <td>18-Mar-2004</td>\n",
       "      <td>17-Apr-2004</td>\n",
       "      <td>0</td>\n",
       "      <td>800000</td>\n",
       "      <td>800</td>\n",
       "      <td>322.6</td>\n",
       "      <td>324.6</td>\n",
       "      <td>0</td>\n",
       "      <td>0.65134</td>\n",
       "      <td>0.97405</td>\n",
       "      <td>0</td>\n",
       "      <td>17.983</td>\n",
       "      <td>N</td>\n",
       "    </tr>\n",
       "  </tbody>\n",
       "</table>\n",
       "</div>"
      ],
      "text/plain": [
       "     TradeDate   ExpiryDate  PutCall  Strikex1000  Strike  BidPrice  AskPrice  \\\n",
       "0  18-Mar-2004  17-Apr-2004        0       700000     700     422.5     424.5   \n",
       "1  18-Mar-2004  17-Apr-2004        0       725000     725     397.5     399.5   \n",
       "2  18-Mar-2004  17-Apr-2004        0       750000     750     372.5     374.5   \n",
       "3  18-Mar-2004  17-Apr-2004        0       775000     775     347.5     349.5   \n",
       "4  18-Mar-2004  17-Apr-2004        0       800000     800     322.6     324.6   \n",
       "\n",
       "   Volume  ImpliedVol    Delta  OpenInterest    Vega Delete  \n",
       "0       0     0.86843  0.98006             1  14.202      N  \n",
       "1       0     0.81016  0.97897             0  14.908      N  \n",
       "2       0     0.75372  0.97776             0  15.674      N  \n",
       "3       0     0.69894  0.97643             0  16.513      N  \n",
       "4       0     0.65134  0.97405             0  17.983      N  "
      ]
     },
     "execution_count": 2,
     "metadata": {},
     "output_type": "execute_result"
    }
   ],
   "source": [
    "df = pd.read_csv(\"call_options.csv\")\n",
    "df.head()"
   ]
  },
  {
   "cell_type": "markdown",
   "id": "714ca479",
   "metadata": {},
   "source": [
    "## Q1(c)\n",
    "\n",
    "Using the implied volatility value from the option metrics file for your option as the volatility\n",
    "input to the Black-Scholes model (including a dividend yield), price your option and\n",
    "compare to the mid-point of the option metrics bid/ask spread."
   ]
  },
  {
   "cell_type": "code",
   "execution_count": 3,
   "id": "1d40b6eb",
   "metadata": {},
   "outputs": [],
   "source": [
    "def BSM( K, T, S0, r, y, sigma ):\n",
    "    numerator = np.log(S0/K) + (r-y+0.5*sigma**2)*T\n",
    "    denominator = sigma*np.sqrt(T)\n",
    "    d1 = numerator/denominator;\n",
    "    d2 = d1 - denominator;\n",
    "    cprice = S0 *np.exp(-y*T)* norm.cdf(d1) - np.exp(-r*T)*K*norm.cdf(d2);\n",
    "    delta = norm.cdf(d1);\n",
    "    gamma = norm.pdf(d1) / (S0*denominator);\n",
    "    return (cprice, delta, gamma)"
   ]
  },
  {
   "cell_type": "code",
   "execution_count": 4,
   "id": "2e000c32",
   "metadata": {},
   "outputs": [],
   "source": [
    "S0 = 1122.319946;\n",
    "K = df['Strike'];\n",
    "T = 1/12;\n",
    "r = 0.0110362;\n",
    "y = 0.01632286;\n",
    "sigma = df['ImpliedVol'];"
   ]
  },
  {
   "cell_type": "code",
   "execution_count": 5,
   "id": "c9669d08",
   "metadata": {},
   "outputs": [],
   "source": [
    "cprice, delta, gamma = BSM(K, T, S0, r, y, sigma)\n",
    "df['CallOptionsPrice'] = cprice\n",
    "df['BidAskMid'] = (df.BidPrice + df.AskPrice)/2;"
   ]
  },
  {
   "cell_type": "code",
   "execution_count": 6,
   "id": "d4bc6da3",
   "metadata": {},
   "outputs": [
    {
     "data": {
      "text/html": [
       "<div>\n",
       "<style scoped>\n",
       "    .dataframe tbody tr th:only-of-type {\n",
       "        vertical-align: middle;\n",
       "    }\n",
       "\n",
       "    .dataframe tbody tr th {\n",
       "        vertical-align: top;\n",
       "    }\n",
       "\n",
       "    .dataframe thead th {\n",
       "        text-align: right;\n",
       "    }\n",
       "</style>\n",
       "<table border=\"1\" class=\"dataframe\">\n",
       "  <thead>\n",
       "    <tr style=\"text-align: right;\">\n",
       "      <th></th>\n",
       "      <th>TradeDate</th>\n",
       "      <th>ExpiryDate</th>\n",
       "      <th>PutCall</th>\n",
       "      <th>Strikex1000</th>\n",
       "      <th>Strike</th>\n",
       "      <th>BidPrice</th>\n",
       "      <th>AskPrice</th>\n",
       "      <th>Volume</th>\n",
       "      <th>ImpliedVol</th>\n",
       "      <th>Delta</th>\n",
       "      <th>OpenInterest</th>\n",
       "      <th>Vega</th>\n",
       "      <th>Delete</th>\n",
       "      <th>CallOptionsPrice</th>\n",
       "      <th>BidAskMid</th>\n",
       "    </tr>\n",
       "  </thead>\n",
       "  <tbody>\n",
       "    <tr>\n",
       "      <th>0</th>\n",
       "      <td>18-Mar-2004</td>\n",
       "      <td>17-Apr-2004</td>\n",
       "      <td>0</td>\n",
       "      <td>700000</td>\n",
       "      <td>700</td>\n",
       "      <td>422.5</td>\n",
       "      <td>424.5</td>\n",
       "      <td>0</td>\n",
       "      <td>0.86843</td>\n",
       "      <td>0.98006</td>\n",
       "      <td>1</td>\n",
       "      <td>14.202</td>\n",
       "      <td>N</td>\n",
       "      <td>423.997500</td>\n",
       "      <td>423.5</td>\n",
       "    </tr>\n",
       "    <tr>\n",
       "      <th>1</th>\n",
       "      <td>18-Mar-2004</td>\n",
       "      <td>17-Apr-2004</td>\n",
       "      <td>0</td>\n",
       "      <td>725000</td>\n",
       "      <td>725</td>\n",
       "      <td>397.5</td>\n",
       "      <td>399.5</td>\n",
       "      <td>0</td>\n",
       "      <td>0.81016</td>\n",
       "      <td>0.97897</td>\n",
       "      <td>0</td>\n",
       "      <td>14.908</td>\n",
       "      <td>N</td>\n",
       "      <td>398.987045</td>\n",
       "      <td>398.5</td>\n",
       "    </tr>\n",
       "    <tr>\n",
       "      <th>2</th>\n",
       "      <td>18-Mar-2004</td>\n",
       "      <td>17-Apr-2004</td>\n",
       "      <td>0</td>\n",
       "      <td>750000</td>\n",
       "      <td>750</td>\n",
       "      <td>372.5</td>\n",
       "      <td>374.5</td>\n",
       "      <td>0</td>\n",
       "      <td>0.75372</td>\n",
       "      <td>0.97776</td>\n",
       "      <td>0</td>\n",
       "      <td>15.674</td>\n",
       "      <td>N</td>\n",
       "      <td>373.976369</td>\n",
       "      <td>373.5</td>\n",
       "    </tr>\n",
       "    <tr>\n",
       "      <th>3</th>\n",
       "      <td>18-Mar-2004</td>\n",
       "      <td>17-Apr-2004</td>\n",
       "      <td>0</td>\n",
       "      <td>775000</td>\n",
       "      <td>775</td>\n",
       "      <td>347.5</td>\n",
       "      <td>349.5</td>\n",
       "      <td>0</td>\n",
       "      <td>0.69894</td>\n",
       "      <td>0.97643</td>\n",
       "      <td>0</td>\n",
       "      <td>16.513</td>\n",
       "      <td>N</td>\n",
       "      <td>348.965098</td>\n",
       "      <td>348.5</td>\n",
       "    </tr>\n",
       "    <tr>\n",
       "      <th>4</th>\n",
       "      <td>18-Mar-2004</td>\n",
       "      <td>17-Apr-2004</td>\n",
       "      <td>0</td>\n",
       "      <td>800000</td>\n",
       "      <td>800</td>\n",
       "      <td>322.6</td>\n",
       "      <td>324.6</td>\n",
       "      <td>0</td>\n",
       "      <td>0.65134</td>\n",
       "      <td>0.97405</td>\n",
       "      <td>0</td>\n",
       "      <td>17.983</td>\n",
       "      <td>N</td>\n",
       "      <td>324.073442</td>\n",
       "      <td>323.6</td>\n",
       "    </tr>\n",
       "  </tbody>\n",
       "</table>\n",
       "</div>"
      ],
      "text/plain": [
       "     TradeDate   ExpiryDate  PutCall  Strikex1000  Strike  BidPrice  AskPrice  \\\n",
       "0  18-Mar-2004  17-Apr-2004        0       700000     700     422.5     424.5   \n",
       "1  18-Mar-2004  17-Apr-2004        0       725000     725     397.5     399.5   \n",
       "2  18-Mar-2004  17-Apr-2004        0       750000     750     372.5     374.5   \n",
       "3  18-Mar-2004  17-Apr-2004        0       775000     775     347.5     349.5   \n",
       "4  18-Mar-2004  17-Apr-2004        0       800000     800     322.6     324.6   \n",
       "\n",
       "   Volume  ImpliedVol    Delta  OpenInterest    Vega Delete  CallOptionsPrice  \\\n",
       "0       0     0.86843  0.98006             1  14.202      N        423.997500   \n",
       "1       0     0.81016  0.97897             0  14.908      N        398.987045   \n",
       "2       0     0.75372  0.97776             0  15.674      N        373.976369   \n",
       "3       0     0.69894  0.97643             0  16.513      N        348.965098   \n",
       "4       0     0.65134  0.97405             0  17.983      N        324.073442   \n",
       "\n",
       "   BidAskMid  \n",
       "0      423.5  \n",
       "1      398.5  \n",
       "2      373.5  \n",
       "3      348.5  \n",
       "4      323.6  "
      ]
     },
     "execution_count": 6,
     "metadata": {},
     "output_type": "execute_result"
    }
   ],
   "source": [
    "df.head()"
   ]
  },
  {
   "cell_type": "markdown",
   "id": "4f006e5b",
   "metadata": {},
   "source": [
    "## Q1(d)\n",
    "Can you find an implied volatility (using e.g. excel solver/fmincon in Matlab) for which the\n",
    "B-S-M formula price matches the midpoint of the Option Metrics Bid/Ask spread exactly?"
   ]
  },
  {
   "cell_type": "code",
   "execution_count": 7,
   "id": "b7185343",
   "metadata": {},
   "outputs": [],
   "source": [
    "def calcimpliedvol(S0,K,T,r,y,midpointBA):\n",
    "  \n",
    "    def BSModel(sigma):\n",
    "        numerator = np.log(S0/K) + (r-y+0.5*sigma**2)*T\n",
    "        denominator = sigma*np.sqrt(T)\n",
    "        d1 = numerator/denominator;\n",
    "        d2 = d1 - denominator;\n",
    "        cprice=S0 *np.exp(-y*T)* norm.cdf(d1) - np.exp(-r*T)*K*norm.cdf(d2);\n",
    "        fx = midpointBA - cprice\n",
    "        return fx\n",
    "\n",
    "    return optimize.brentq(BSModel,0.01,1)"
   ]
  },
  {
   "cell_type": "code",
   "execution_count": 8,
   "id": "bda10aea",
   "metadata": {},
   "outputs": [],
   "source": [
    "imp_vol = []\n",
    "for index, row in df.iterrows():\n",
    "    x = calcimpliedvol(S0=S0,K=row['Strike'],T=T, r=r, y=y, midpointBA=row['BidAskMid'])\n",
    "    imp_vol.append(x)\n",
    "\n",
    "df['ImpliedVol_New'] = imp_vol\n",
    "\n",
    "df['Impl_Diff'] = df['ImpliedVol'] - df['ImpliedVol_New']"
   ]
  },
  {
   "cell_type": "code",
   "execution_count": 9,
   "id": "7247d042",
   "metadata": {},
   "outputs": [
    {
     "data": {
      "text/html": [
       "<div>\n",
       "<style scoped>\n",
       "    .dataframe tbody tr th:only-of-type {\n",
       "        vertical-align: middle;\n",
       "    }\n",
       "\n",
       "    .dataframe tbody tr th {\n",
       "        vertical-align: top;\n",
       "    }\n",
       "\n",
       "    .dataframe thead th {\n",
       "        text-align: right;\n",
       "    }\n",
       "</style>\n",
       "<table border=\"1\" class=\"dataframe\">\n",
       "  <thead>\n",
       "    <tr style=\"text-align: right;\">\n",
       "      <th></th>\n",
       "      <th>ImpliedVol</th>\n",
       "      <th>ImpliedVol_New</th>\n",
       "      <th>Impl_Diff</th>\n",
       "    </tr>\n",
       "  </thead>\n",
       "  <tbody>\n",
       "    <tr>\n",
       "      <th>0</th>\n",
       "      <td>0.86843</td>\n",
       "      <td>0.837660</td>\n",
       "      <td>0.030770</td>\n",
       "    </tr>\n",
       "    <tr>\n",
       "      <th>1</th>\n",
       "      <td>0.81016</td>\n",
       "      <td>0.781422</td>\n",
       "      <td>0.028738</td>\n",
       "    </tr>\n",
       "    <tr>\n",
       "      <th>2</th>\n",
       "      <td>0.75372</td>\n",
       "      <td>0.726946</td>\n",
       "      <td>0.026774</td>\n",
       "    </tr>\n",
       "    <tr>\n",
       "      <th>3</th>\n",
       "      <td>0.69894</td>\n",
       "      <td>0.674086</td>\n",
       "      <td>0.024854</td>\n",
       "    </tr>\n",
       "    <tr>\n",
       "      <th>4</th>\n",
       "      <td>0.65134</td>\n",
       "      <td>0.628026</td>\n",
       "      <td>0.023314</td>\n",
       "    </tr>\n",
       "  </tbody>\n",
       "</table>\n",
       "</div>"
      ],
      "text/plain": [
       "   ImpliedVol  ImpliedVol_New  Impl_Diff\n",
       "0     0.86843        0.837660   0.030770\n",
       "1     0.81016        0.781422   0.028738\n",
       "2     0.75372        0.726946   0.026774\n",
       "3     0.69894        0.674086   0.024854\n",
       "4     0.65134        0.628026   0.023314"
      ]
     },
     "execution_count": 9,
     "metadata": {},
     "output_type": "execute_result"
    }
   ],
   "source": [
    "df[['ImpliedVol', 'ImpliedVol_New', 'Impl_Diff']].head()"
   ]
  },
  {
   "cell_type": "code",
   "execution_count": 10,
   "id": "6a3b7817",
   "metadata": {
    "scrolled": true
   },
   "outputs": [
    {
     "data": {
      "text/html": [
       "<div>\n",
       "<style scoped>\n",
       "    .dataframe tbody tr th:only-of-type {\n",
       "        vertical-align: middle;\n",
       "    }\n",
       "\n",
       "    .dataframe tbody tr th {\n",
       "        vertical-align: top;\n",
       "    }\n",
       "\n",
       "    .dataframe thead th {\n",
       "        text-align: right;\n",
       "    }\n",
       "</style>\n",
       "<table border=\"1\" class=\"dataframe\">\n",
       "  <thead>\n",
       "    <tr style=\"text-align: right;\">\n",
       "      <th></th>\n",
       "      <th>ImpliedVol</th>\n",
       "      <th>ImpliedVol_New</th>\n",
       "      <th>Impl_Diff</th>\n",
       "    </tr>\n",
       "  </thead>\n",
       "  <tbody>\n",
       "    <tr>\n",
       "      <th>13</th>\n",
       "      <td>0.27986</td>\n",
       "      <td>0.334966</td>\n",
       "      <td>-0.055106</td>\n",
       "    </tr>\n",
       "    <tr>\n",
       "      <th>21</th>\n",
       "      <td>0.16595</td>\n",
       "      <td>0.176807</td>\n",
       "      <td>-0.010857</td>\n",
       "    </tr>\n",
       "    <tr>\n",
       "      <th>27</th>\n",
       "      <td>0.14807</td>\n",
       "      <td>0.150998</td>\n",
       "      <td>-0.002928</td>\n",
       "    </tr>\n",
       "    <tr>\n",
       "      <th>30</th>\n",
       "      <td>0.15659</td>\n",
       "      <td>0.156106</td>\n",
       "      <td>0.000484</td>\n",
       "    </tr>\n",
       "    <tr>\n",
       "      <th>32</th>\n",
       "      <td>0.18062</td>\n",
       "      <td>0.178008</td>\n",
       "      <td>0.002612</td>\n",
       "    </tr>\n",
       "    <tr>\n",
       "      <th>29</th>\n",
       "      <td>0.14497</td>\n",
       "      <td>0.139141</td>\n",
       "      <td>0.005829</td>\n",
       "    </tr>\n",
       "    <tr>\n",
       "      <th>28</th>\n",
       "      <td>0.14591</td>\n",
       "      <td>0.140057</td>\n",
       "      <td>0.005853</td>\n",
       "    </tr>\n",
       "    <tr>\n",
       "      <th>25</th>\n",
       "      <td>0.14841</td>\n",
       "      <td>0.142473</td>\n",
       "      <td>0.005937</td>\n",
       "    </tr>\n",
       "    <tr>\n",
       "      <th>26</th>\n",
       "      <td>0.14898</td>\n",
       "      <td>0.143013</td>\n",
       "      <td>0.005967</td>\n",
       "    </tr>\n",
       "    <tr>\n",
       "      <th>24</th>\n",
       "      <td>0.15568</td>\n",
       "      <td>0.149466</td>\n",
       "      <td>0.006214</td>\n",
       "    </tr>\n",
       "    <tr>\n",
       "      <th>23</th>\n",
       "      <td>0.15737</td>\n",
       "      <td>0.151098</td>\n",
       "      <td>0.006272</td>\n",
       "    </tr>\n",
       "    <tr>\n",
       "      <th>22</th>\n",
       "      <td>0.16420</td>\n",
       "      <td>0.157673</td>\n",
       "      <td>0.006527</td>\n",
       "    </tr>\n",
       "    <tr>\n",
       "      <th>31</th>\n",
       "      <td>0.16338</td>\n",
       "      <td>0.156793</td>\n",
       "      <td>0.006587</td>\n",
       "    </tr>\n",
       "    <tr>\n",
       "      <th>20</th>\n",
       "      <td>0.17058</td>\n",
       "      <td>0.163816</td>\n",
       "      <td>0.006764</td>\n",
       "    </tr>\n",
       "    <tr>\n",
       "      <th>19</th>\n",
       "      <td>0.17999</td>\n",
       "      <td>0.172876</td>\n",
       "      <td>0.007114</td>\n",
       "    </tr>\n",
       "    <tr>\n",
       "      <th>18</th>\n",
       "      <td>0.18885</td>\n",
       "      <td>0.181407</td>\n",
       "      <td>0.007443</td>\n",
       "    </tr>\n",
       "    <tr>\n",
       "      <th>17</th>\n",
       "      <td>0.19848</td>\n",
       "      <td>0.190684</td>\n",
       "      <td>0.007796</td>\n",
       "    </tr>\n",
       "    <tr>\n",
       "      <th>16</th>\n",
       "      <td>0.21926</td>\n",
       "      <td>0.210709</td>\n",
       "      <td>0.008551</td>\n",
       "    </tr>\n",
       "    <tr>\n",
       "      <th>15</th>\n",
       "      <td>0.23123</td>\n",
       "      <td>0.222246</td>\n",
       "      <td>0.008984</td>\n",
       "    </tr>\n",
       "    <tr>\n",
       "      <th>14</th>\n",
       "      <td>0.24340</td>\n",
       "      <td>0.233981</td>\n",
       "      <td>0.009419</td>\n",
       "    </tr>\n",
       "    <tr>\n",
       "      <th>12</th>\n",
       "      <td>0.31687</td>\n",
       "      <td>0.304895</td>\n",
       "      <td>0.011975</td>\n",
       "    </tr>\n",
       "    <tr>\n",
       "      <th>11</th>\n",
       "      <td>0.34556</td>\n",
       "      <td>0.332610</td>\n",
       "      <td>0.012950</td>\n",
       "    </tr>\n",
       "    <tr>\n",
       "      <th>10</th>\n",
       "      <td>0.38128</td>\n",
       "      <td>0.367157</td>\n",
       "      <td>0.014123</td>\n",
       "    </tr>\n",
       "    <tr>\n",
       "      <th>9</th>\n",
       "      <td>0.42055</td>\n",
       "      <td>0.405117</td>\n",
       "      <td>0.015433</td>\n",
       "    </tr>\n",
       "    <tr>\n",
       "      <th>8</th>\n",
       "      <td>0.46215</td>\n",
       "      <td>0.445326</td>\n",
       "      <td>0.016824</td>\n",
       "    </tr>\n",
       "    <tr>\n",
       "      <th>7</th>\n",
       "      <td>0.50306</td>\n",
       "      <td>0.484913</td>\n",
       "      <td>0.018147</td>\n",
       "    </tr>\n",
       "    <tr>\n",
       "      <th>6</th>\n",
       "      <td>0.54827</td>\n",
       "      <td>0.528601</td>\n",
       "      <td>0.019669</td>\n",
       "    </tr>\n",
       "    <tr>\n",
       "      <th>5</th>\n",
       "      <td>0.59917</td>\n",
       "      <td>0.577701</td>\n",
       "      <td>0.021469</td>\n",
       "    </tr>\n",
       "    <tr>\n",
       "      <th>4</th>\n",
       "      <td>0.65134</td>\n",
       "      <td>0.628026</td>\n",
       "      <td>0.023314</td>\n",
       "    </tr>\n",
       "    <tr>\n",
       "      <th>3</th>\n",
       "      <td>0.69894</td>\n",
       "      <td>0.674086</td>\n",
       "      <td>0.024854</td>\n",
       "    </tr>\n",
       "    <tr>\n",
       "      <th>2</th>\n",
       "      <td>0.75372</td>\n",
       "      <td>0.726946</td>\n",
       "      <td>0.026774</td>\n",
       "    </tr>\n",
       "    <tr>\n",
       "      <th>1</th>\n",
       "      <td>0.81016</td>\n",
       "      <td>0.781422</td>\n",
       "      <td>0.028738</td>\n",
       "    </tr>\n",
       "    <tr>\n",
       "      <th>0</th>\n",
       "      <td>0.86843</td>\n",
       "      <td>0.837660</td>\n",
       "      <td>0.030770</td>\n",
       "    </tr>\n",
       "  </tbody>\n",
       "</table>\n",
       "</div>"
      ],
      "text/plain": [
       "    ImpliedVol  ImpliedVol_New  Impl_Diff\n",
       "13     0.27986        0.334966  -0.055106\n",
       "21     0.16595        0.176807  -0.010857\n",
       "27     0.14807        0.150998  -0.002928\n",
       "30     0.15659        0.156106   0.000484\n",
       "32     0.18062        0.178008   0.002612\n",
       "29     0.14497        0.139141   0.005829\n",
       "28     0.14591        0.140057   0.005853\n",
       "25     0.14841        0.142473   0.005937\n",
       "26     0.14898        0.143013   0.005967\n",
       "24     0.15568        0.149466   0.006214\n",
       "23     0.15737        0.151098   0.006272\n",
       "22     0.16420        0.157673   0.006527\n",
       "31     0.16338        0.156793   0.006587\n",
       "20     0.17058        0.163816   0.006764\n",
       "19     0.17999        0.172876   0.007114\n",
       "18     0.18885        0.181407   0.007443\n",
       "17     0.19848        0.190684   0.007796\n",
       "16     0.21926        0.210709   0.008551\n",
       "15     0.23123        0.222246   0.008984\n",
       "14     0.24340        0.233981   0.009419\n",
       "12     0.31687        0.304895   0.011975\n",
       "11     0.34556        0.332610   0.012950\n",
       "10     0.38128        0.367157   0.014123\n",
       "9      0.42055        0.405117   0.015433\n",
       "8      0.46215        0.445326   0.016824\n",
       "7      0.50306        0.484913   0.018147\n",
       "6      0.54827        0.528601   0.019669\n",
       "5      0.59917        0.577701   0.021469\n",
       "4      0.65134        0.628026   0.023314\n",
       "3      0.69894        0.674086   0.024854\n",
       "2      0.75372        0.726946   0.026774\n",
       "1      0.81016        0.781422   0.028738\n",
       "0      0.86843        0.837660   0.030770"
      ]
     },
     "execution_count": 10,
     "metadata": {},
     "output_type": "execute_result"
    }
   ],
   "source": [
    "df[['ImpliedVol', 'ImpliedVol_New', 'Impl_Diff']].sort_values(by='Impl_Diff')"
   ]
  },
  {
   "cell_type": "code",
   "execution_count": 11,
   "id": "894ff316",
   "metadata": {},
   "outputs": [
    {
     "data": {
      "text/html": [
       "<div>\n",
       "<style scoped>\n",
       "    .dataframe tbody tr th:only-of-type {\n",
       "        vertical-align: middle;\n",
       "    }\n",
       "\n",
       "    .dataframe tbody tr th {\n",
       "        vertical-align: top;\n",
       "    }\n",
       "\n",
       "    .dataframe thead th {\n",
       "        text-align: right;\n",
       "    }\n",
       "</style>\n",
       "<table border=\"1\" class=\"dataframe\">\n",
       "  <thead>\n",
       "    <tr style=\"text-align: right;\">\n",
       "      <th></th>\n",
       "      <th>TradeDate</th>\n",
       "      <th>ExpiryDate</th>\n",
       "      <th>PutCall</th>\n",
       "      <th>Strikex1000</th>\n",
       "      <th>Strike</th>\n",
       "      <th>BidPrice</th>\n",
       "      <th>AskPrice</th>\n",
       "      <th>Volume</th>\n",
       "      <th>ImpliedVol</th>\n",
       "      <th>Delta</th>\n",
       "      <th>OpenInterest</th>\n",
       "      <th>Vega</th>\n",
       "      <th>Delete</th>\n",
       "      <th>CallOptionsPrice</th>\n",
       "      <th>BidAskMid</th>\n",
       "      <th>ImpliedVol_New</th>\n",
       "      <th>Impl_Diff</th>\n",
       "    </tr>\n",
       "  </thead>\n",
       "  <tbody>\n",
       "    <tr>\n",
       "      <th>30</th>\n",
       "      <td>18-Mar-2004</td>\n",
       "      <td>17-Apr-2004</td>\n",
       "      <td>0</td>\n",
       "      <td>1230000</td>\n",
       "      <td>1230</td>\n",
       "      <td>0.3</td>\n",
       "      <td>0.5</td>\n",
       "      <td>385</td>\n",
       "      <td>0.15659</td>\n",
       "      <td>0.022386</td>\n",
       "      <td>13374</td>\n",
       "      <td>16.553</td>\n",
       "      <td>N</td>\n",
       "      <td>0.408174</td>\n",
       "      <td>0.4</td>\n",
       "      <td>0.156106</td>\n",
       "      <td>0.000484</td>\n",
       "    </tr>\n",
       "  </tbody>\n",
       "</table>\n",
       "</div>"
      ],
      "text/plain": [
       "      TradeDate   ExpiryDate  PutCall  Strikex1000  Strike  BidPrice  \\\n",
       "30  18-Mar-2004  17-Apr-2004        0      1230000    1230       0.3   \n",
       "\n",
       "    AskPrice  Volume  ImpliedVol     Delta  OpenInterest    Vega Delete  \\\n",
       "30       0.5     385     0.15659  0.022386         13374  16.553      N   \n",
       "\n",
       "    CallOptionsPrice  BidAskMid  ImpliedVol_New  Impl_Diff  \n",
       "30          0.408174        0.4        0.156106   0.000484  "
      ]
     },
     "execution_count": 11,
     "metadata": {},
     "output_type": "execute_result"
    }
   ],
   "source": [
    "df[df['ImpliedVol']==0.15659]"
   ]
  },
  {
   "cell_type": "markdown",
   "id": "7615c270",
   "metadata": {},
   "source": [
    "## Q1(e)\n",
    "\n",
    "Does this match the implied volatility in the Option Metrics data?\n",
    "\n",
    "---\n",
    "##### The implied volatility via `brentq()` solver is similar to the implied volatility in the Option Metrics data\n",
    "\n",
    "---"
   ]
  },
  {
   "cell_type": "code",
   "execution_count": 12,
   "id": "8958e2f8",
   "metadata": {},
   "outputs": [
    {
     "data": {
      "text/html": [
       "<div>\n",
       "<style scoped>\n",
       "    .dataframe tbody tr th:only-of-type {\n",
       "        vertical-align: middle;\n",
       "    }\n",
       "\n",
       "    .dataframe tbody tr th {\n",
       "        vertical-align: top;\n",
       "    }\n",
       "\n",
       "    .dataframe thead th {\n",
       "        text-align: right;\n",
       "    }\n",
       "</style>\n",
       "<table border=\"1\" class=\"dataframe\">\n",
       "  <thead>\n",
       "    <tr style=\"text-align: right;\">\n",
       "      <th></th>\n",
       "      <th>ImpliedVol</th>\n",
       "      <th>ImpliedVol_New</th>\n",
       "    </tr>\n",
       "  </thead>\n",
       "  <tbody>\n",
       "    <tr>\n",
       "      <th>30</th>\n",
       "      <td>0.15659</td>\n",
       "      <td>0.156106</td>\n",
       "    </tr>\n",
       "  </tbody>\n",
       "</table>\n",
       "</div>"
      ],
      "text/plain": [
       "    ImpliedVol  ImpliedVol_New\n",
       "30     0.15659        0.156106"
      ]
     },
     "execution_count": 12,
     "metadata": {},
     "output_type": "execute_result"
    }
   ],
   "source": [
    "df[['ImpliedVol', 'ImpliedVol_New']].iloc[[30]]"
   ]
  },
  {
   "cell_type": "markdown",
   "id": "f0e892cc",
   "metadata": {},
   "source": [
    "## Q2(a)\n",
    "\n",
    "The sensitivity of the Black-Scholes option price to changes in volatility, σ (from σ =5% to\n",
    "σ =80% in steps of 5%)."
   ]
  },
  {
   "cell_type": "code",
   "execution_count": 13,
   "id": "33e49d34",
   "metadata": {
    "run_control": {
     "marked": false
    }
   },
   "outputs": [
    {
     "data": {
      "text/plain": [
       "array([0.05, 0.1 , 0.15, 0.2 , 0.25, 0.3 , 0.35, 0.4 , 0.45, 0.5 , 0.55,\n",
       "       0.6 , 0.65, 0.7 , 0.75, 0.8 ])"
      ]
     },
     "execution_count": 13,
     "metadata": {},
     "output_type": "execute_result"
    }
   ],
   "source": [
    "#Range of values from 5% - 80% in steps of 5%\n",
    "x = np.arange(0.05, 0.85, 0.05)\n",
    "x"
   ]
  },
  {
   "cell_type": "code",
   "execution_count": 14,
   "id": "cf0f3dea",
   "metadata": {
    "run_control": {
     "marked": false
    }
   },
   "outputs": [],
   "source": [
    "S0 = 1122.319946;\n",
    "K = 1230;\n",
    "T = 1/12;\n",
    "r = 0.0110362;\n",
    "y = 0.01632286;\n",
    "sigma = 0.15659;\n",
    "bsm_map = []\n",
    "for i in x:\n",
    "    res = BSM(K, T, S0, r, y, i)\n",
    "    bsm_map.append(res[0]) #store BSM's cprice in a list\n",
    "    \n",
    "    \n",
    "#convert list to array\n",
    "arr = np.array(bsm_map)"
   ]
  },
  {
   "cell_type": "code",
   "execution_count": 15,
   "id": "6bf5098b",
   "metadata": {},
   "outputs": [],
   "source": [
    "# create a df with the IV sensitivity ranges and its relevant cprice\n",
    "q2_df = pd.DataFrame({'IV':x, 'BSM Option Price':arr})"
   ]
  },
  {
   "cell_type": "code",
   "execution_count": 16,
   "id": "5f780de5",
   "metadata": {},
   "outputs": [
    {
     "data": {
      "image/png": "[encoded data removed]",
      "text/plain": [
       "<Figure size 432x288 with 1 Axes>"
      ]
     },
     "metadata": {
      "needs_background": "light"
     },
     "output_type": "display_data"
    }
   ],
   "source": [
    "def plot_sensitivity(df, column1, column2):\n",
    "    '''\n",
    "    Function to produce resused graphs\n",
    "    '''\n",
    "    plt.plot(df[column1], df[column2])\n",
    "    plt.xlabel(f\"{column1}\")\n",
    "    plt.ylabel(\"Option Price\")\n",
    "    plt.title(f\"{column1} vs Option Price\")\n",
    "    \n",
    "\n",
    "plot_sensitivity(q2_df, \"IV\", 'BSM Option Price')"
   ]
  },
  {
   "cell_type": "markdown",
   "id": "08c6770e",
   "metadata": {},
   "source": [
    "## Q2(c)\n",
    "\n",
    "The sensitivity of the Black-Scholes option price to changes in the time to maturity T (T= 1\n",
    "week, 1 month, 1 quarter, 6 months, 1 year, 5 years)."
   ]
  },
  {
   "cell_type": "code",
   "execution_count": 17,
   "id": "ebfa2655",
   "metadata": {
    "run_control": {
     "marked": false
    }
   },
   "outputs": [
    {
     "name": "stdout",
     "output_type": "stream",
     "text": [
      "6.607968718835497e-05\n",
      "0.4081735194878142\n",
      "5.2789911755461105\n",
      "14.163292490092147\n",
      "29.635052850564307\n",
      "96.45716479640453\n"
     ]
    }
   ],
   "source": [
    "T_arr = np.array([1/52, 1/12, 3/12, 6/12, 1, 5])\n",
    "bsm_T_list = []\n",
    "\n",
    "for i in T_arr:\n",
    "    res_2 = BSM(K, i, S0, r, y, sigma)\n",
    "    print(res_2[0])\n",
    "    bsm_T_list.append(res_2[0])\n",
    "\n",
    "\n",
    "    \n",
    "bsm_T_arr = np.array(bsm_T_list)"
   ]
  },
  {
   "cell_type": "code",
   "execution_count": 18,
   "id": "c60c0f2f",
   "metadata": {},
   "outputs": [
    {
     "data": {
      "text/plain": [
       "array([6.60796872e-05, 4.08173519e-01, 5.27899118e+00, 1.41632925e+01,\n",
       "       2.96350529e+01, 9.64571648e+01])"
      ]
     },
     "execution_count": 18,
     "metadata": {},
     "output_type": "execute_result"
    }
   ],
   "source": [
    "bsm_T_arr"
   ]
  },
  {
   "cell_type": "code",
   "execution_count": 19,
   "id": "c8df9a78",
   "metadata": {},
   "outputs": [
    {
     "data": {
      "text/plain": [
       "((6,), (6,))"
      ]
     },
     "execution_count": 19,
     "metadata": {},
     "output_type": "execute_result"
    }
   ],
   "source": [
    "T_arr.shape, bsm_T_arr.shape"
   ]
  },
  {
   "cell_type": "code",
   "execution_count": 20,
   "id": "274bc526",
   "metadata": {},
   "outputs": [
    {
     "data": {
      "text/html": [
       "<div>\n",
       "<style scoped>\n",
       "    .dataframe tbody tr th:only-of-type {\n",
       "        vertical-align: middle;\n",
       "    }\n",
       "\n",
       "    .dataframe tbody tr th {\n",
       "        vertical-align: top;\n",
       "    }\n",
       "\n",
       "    .dataframe thead th {\n",
       "        text-align: right;\n",
       "    }\n",
       "</style>\n",
       "<table border=\"1\" class=\"dataframe\">\n",
       "  <thead>\n",
       "    <tr style=\"text-align: right;\">\n",
       "      <th></th>\n",
       "      <th>T</th>\n",
       "      <th>BSM Option Price</th>\n",
       "    </tr>\n",
       "  </thead>\n",
       "  <tbody>\n",
       "    <tr>\n",
       "      <th>0</th>\n",
       "      <td>0.019231</td>\n",
       "      <td>0.000066</td>\n",
       "    </tr>\n",
       "    <tr>\n",
       "      <th>1</th>\n",
       "      <td>0.083333</td>\n",
       "      <td>0.408174</td>\n",
       "    </tr>\n",
       "    <tr>\n",
       "      <th>2</th>\n",
       "      <td>0.250000</td>\n",
       "      <td>5.278991</td>\n",
       "    </tr>\n",
       "    <tr>\n",
       "      <th>3</th>\n",
       "      <td>0.500000</td>\n",
       "      <td>14.163292</td>\n",
       "    </tr>\n",
       "    <tr>\n",
       "      <th>4</th>\n",
       "      <td>1.000000</td>\n",
       "      <td>29.635053</td>\n",
       "    </tr>\n",
       "    <tr>\n",
       "      <th>5</th>\n",
       "      <td>5.000000</td>\n",
       "      <td>96.457165</td>\n",
       "    </tr>\n",
       "  </tbody>\n",
       "</table>\n",
       "</div>"
      ],
      "text/plain": [
       "          T  BSM Option Price\n",
       "0  0.019231          0.000066\n",
       "1  0.083333          0.408174\n",
       "2  0.250000          5.278991\n",
       "3  0.500000         14.163292\n",
       "4  1.000000         29.635053\n",
       "5  5.000000         96.457165"
      ]
     },
     "execution_count": 20,
     "metadata": {},
     "output_type": "execute_result"
    }
   ],
   "source": [
    "q2c_df = pd.DataFrame({'T':T_arr, 'BSM Option Price':bsm_T_arr})\n",
    "q2c_df"
   ]
  },
  {
   "cell_type": "code",
   "execution_count": 21,
   "id": "4395b84a",
   "metadata": {},
   "outputs": [
    {
     "data": {
      "image/png": "[encoded data removed]",
      "text/plain": [
       "<Figure size 432x288 with 1 Axes>"
      ]
     },
     "metadata": {
      "needs_background": "light"
     },
     "output_type": "display_data"
    }
   ],
   "source": [
    "plot_sensitivity(q2c_df, \"T\", 'BSM Option Price')"
   ]
  },
  {
   "cell_type": "markdown",
   "id": "147c4464",
   "metadata": {},
   "source": [
    "## Q2(d)\n",
    "\n",
    "The sensitivity of the Black-Scholes option price to changes in the interest rate r. (e.g. r in\n",
    "the range 0% to 14%, in steps of 0.25%)"
   ]
  },
  {
   "cell_type": "code",
   "execution_count": 22,
   "id": "c1df132c",
   "metadata": {},
   "outputs": [],
   "source": [
    "r_range = np.arange(0, 0.1425, 0.0025)\n",
    "\n",
    "bsm_r_map = []\n",
    "for i in r_range:\n",
    "    res3 = BSM(K, T, S0, i, y, sigma)\n",
    "    bsm_r_map.append(res3[0]) #store BSM's cprice in a list\n",
    "    \n",
    "    \n",
    "#convert list to array\n",
    "r_arr = np.array(bsm_r_map)"
   ]
  },
  {
   "cell_type": "code",
   "execution_count": 23,
   "id": "8bb20728",
   "metadata": {
    "scrolled": true
   },
   "outputs": [
    {
     "data": {
      "text/html": [
       "<div>\n",
       "<style scoped>\n",
       "    .dataframe tbody tr th:only-of-type {\n",
       "        vertical-align: middle;\n",
       "    }\n",
       "\n",
       "    .dataframe tbody tr th {\n",
       "        vertical-align: top;\n",
       "    }\n",
       "\n",
       "    .dataframe thead th {\n",
       "        text-align: right;\n",
       "    }\n",
       "</style>\n",
       "<table border=\"1\" class=\"dataframe\">\n",
       "  <thead>\n",
       "    <tr style=\"text-align: right;\">\n",
       "      <th></th>\n",
       "      <th>Rate</th>\n",
       "      <th>BSM Option Price</th>\n",
       "    </tr>\n",
       "  </thead>\n",
       "  <tbody>\n",
       "    <tr>\n",
       "      <th>0</th>\n",
       "      <td>0.0000</td>\n",
       "      <td>0.386394</td>\n",
       "    </tr>\n",
       "    <tr>\n",
       "      <th>1</th>\n",
       "      <td>0.0025</td>\n",
       "      <td>0.391235</td>\n",
       "    </tr>\n",
       "    <tr>\n",
       "      <th>2</th>\n",
       "      <td>0.0050</td>\n",
       "      <td>0.396130</td>\n",
       "    </tr>\n",
       "    <tr>\n",
       "      <th>3</th>\n",
       "      <td>0.0075</td>\n",
       "      <td>0.401079</td>\n",
       "    </tr>\n",
       "    <tr>\n",
       "      <th>4</th>\n",
       "      <td>0.0100</td>\n",
       "      <td>0.406083</td>\n",
       "    </tr>\n",
       "  </tbody>\n",
       "</table>\n",
       "</div>"
      ],
      "text/plain": [
       "     Rate  BSM Option Price\n",
       "0  0.0000          0.386394\n",
       "1  0.0025          0.391235\n",
       "2  0.0050          0.396130\n",
       "3  0.0075          0.401079\n",
       "4  0.0100          0.406083"
      ]
     },
     "execution_count": 23,
     "metadata": {},
     "output_type": "execute_result"
    }
   ],
   "source": [
    "q2d_df = pd.DataFrame({'Rate':r_range, 'BSM Option Price':bsm_r_map})\n",
    "q2d_df.head()"
   ]
  },
  {
   "cell_type": "code",
   "execution_count": 24,
   "id": "6fd88368",
   "metadata": {},
   "outputs": [
    {
     "data": {
      "image/png": "[encoded data removed]",
      "text/plain": [
       "<Figure size 432x288 with 1 Axes>"
      ]
     },
     "metadata": {
      "needs_background": "light"
     },
     "output_type": "display_data"
    }
   ],
   "source": [
    "plot_sensitivity(q2d_df, 'Rate', 'BSM Option Price')"
   ]
  },
  {
   "cell_type": "code",
   "execution_count": null,
   "id": "9c17cd0f",
   "metadata": {},
   "outputs": [],
   "source": []
  },
  {
   "cell_type": "code",
   "execution_count": null,
   "id": "969b4181",
   "metadata": {},
   "outputs": [],
   "source": []
  }
 ],
 "metadata": {
  "kernelspec": {
   "display_name": "Python 3 (ipykernel)",
   "language": "python",
   "name": "python3"
  },
  "language_info": {
   "codemirror_mode": {
    "name": "ipython",
    "version": 3
   },
   "file_extension": ".py",
   "mimetype": "text/x-python",
   "name": "python",
   "nbconvert_exporter": "python",
   "pygments_lexer": "ipython3",
   "version": "3.8.15"
  }
 },
 "nbformat": 4,
 "nbformat_minor": 5
}
