{
 "cells": [
  {
   "cell_type": "code",
   "execution_count": 1,
   "id": "8a9b461c",
   "metadata": {},
   "outputs": [],
   "source": [
    "from scipy import optimize\n",
    "import numpy as np\n",
    "from math import sqrt\n",
    "from scipy.stats import norm\n",
    "import pandas as pd\n",
    "import matplotlib.pyplot as plt\n",
    "import seaborn as sns"
   ]
  },
  {
   "cell_type": "code",
   "execution_count": 2,
   "id": "6d607109",
   "metadata": {},
   "outputs": [
    {
     "data": {
      "text/html": [
       "<div>\n",
       "<style scoped>\n",
       "    .dataframe tbody tr th:only-of-type {\n",
       "        vertical-align: middle;\n",
       "    }\n",
       "\n",
       "    .dataframe tbody tr th {\n",
       "        vertical-align: top;\n",
       "    }\n",
       "\n",
       "    .dataframe thead th {\n",
       "        text-align: right;\n",
       "    }\n",
       "</style>\n",
       "<table border=\"1\" class=\"dataframe\">\n",
       "  <thead>\n",
       "    <tr style=\"text-align: right;\">\n",
       "      <th></th>\n",
       "      <th>Trade dAte</th>\n",
       "      <th>Expiry Date</th>\n",
       "      <th>Put=1 Call=0</th>\n",
       "      <th>Strike x 1000</th>\n",
       "      <th>Bid Price</th>\n",
       "      <th>Ask Price</th>\n",
       "      <th>Volume</th>\n",
       "      <th>Implied Vol</th>\n",
       "      <th>Delta</th>\n",
       "      <th>Open Interest</th>\n",
       "      <th>Vega</th>\n",
       "    </tr>\n",
       "  </thead>\n",
       "  <tbody>\n",
       "    <tr>\n",
       "      <th>0</th>\n",
       "      <td>18/03/04</td>\n",
       "      <td>17/04/04</td>\n",
       "      <td>0</td>\n",
       "      <td>1010000.0</td>\n",
       "      <td>119.7</td>\n",
       "      <td>121.7</td>\n",
       "      <td>0</td>\n",
       "      <td>0.30257</td>\n",
       "      <td>0.91107</td>\n",
       "      <td>140</td>\n",
       "      <td>49.491</td>\n",
       "    </tr>\n",
       "    <tr>\n",
       "      <th>1</th>\n",
       "      <td>18/03/04</td>\n",
       "      <td>17/04/04</td>\n",
       "      <td>0</td>\n",
       "      <td>1010000.0</td>\n",
       "      <td>114.4</td>\n",
       "      <td>116.4</td>\n",
       "      <td>0</td>\n",
       "      <td>0.28616</td>\n",
       "      <td>0.91272</td>\n",
       "      <td>0</td>\n",
       "      <td>48.795</td>\n",
       "    </tr>\n",
       "    <tr>\n",
       "      <th>2</th>\n",
       "      <td>18/03/04</td>\n",
       "      <td>17/04/04</td>\n",
       "      <td>0</td>\n",
       "      <td>1020000.0</td>\n",
       "      <td>109.6</td>\n",
       "      <td>111.6</td>\n",
       "      <td>0</td>\n",
       "      <td>0.27986</td>\n",
       "      <td>0.90713</td>\n",
       "      <td>0</td>\n",
       "      <td>51.135</td>\n",
       "    </tr>\n",
       "    <tr>\n",
       "      <th>3</th>\n",
       "      <td>18/03/04</td>\n",
       "      <td>17/04/04</td>\n",
       "      <td>0</td>\n",
       "      <td>1030000.0</td>\n",
       "      <td>100.5</td>\n",
       "      <td>102.5</td>\n",
       "      <td>0</td>\n",
       "      <td>0.27513</td>\n",
       "      <td>0.88823</td>\n",
       "      <td>33</td>\n",
       "      <td>58.627</td>\n",
       "    </tr>\n",
       "    <tr>\n",
       "      <th>4</th>\n",
       "      <td>18/03/04</td>\n",
       "      <td>17/04/04</td>\n",
       "      <td>0</td>\n",
       "      <td>1030000.0</td>\n",
       "      <td>95.7</td>\n",
       "      <td>97.7</td>\n",
       "      <td>0</td>\n",
       "      <td>0.26763</td>\n",
       "      <td>0.88179</td>\n",
       "      <td>0</td>\n",
       "      <td>61.044</td>\n",
       "    </tr>\n",
       "  </tbody>\n",
       "</table>\n",
       "</div>"
      ],
      "text/plain": [
       "  Trade dAte Expiry Date  Put=1 Call=0  Strike x 1000  Bid Price  Ask Price  \\\n",
       "0   18/03/04    17/04/04             0      1010000.0      119.7      121.7   \n",
       "1   18/03/04    17/04/04             0      1010000.0      114.4      116.4   \n",
       "2   18/03/04    17/04/04             0      1020000.0      109.6      111.6   \n",
       "3   18/03/04    17/04/04             0      1030000.0      100.5      102.5   \n",
       "4   18/03/04    17/04/04             0      1030000.0       95.7       97.7   \n",
       "\n",
       "   Volume  Implied Vol   Delta   Open Interest    Vega  \n",
       "0       0      0.30257  0.91107            140  49.491  \n",
       "1       0      0.28616  0.91272              0  48.795  \n",
       "2       0      0.27986  0.90713              0  51.135  \n",
       "3       0      0.27513  0.88823             33  58.627  \n",
       "4       0      0.26763  0.88179              0  61.044  "
      ]
     },
     "execution_count": 2,
     "metadata": {},
     "output_type": "execute_result"
    }
   ],
   "source": [
    "# load the relevant optionsdata corresponding to our assigned date 18-03-2004\n",
    "optionsData = pd.read_csv(\"input resources/OptionData.csv\")\n",
    "# print(\"Size: \", optionsData.shape)\n",
    "optionsData.head()"
   ]
  },
  {
   "cell_type": "markdown",
   "id": "7f1f929d",
   "metadata": {},
   "source": [
    "### Initial Data Cleanup (dropping options with volume < 100) & segregating the call & put data "
   ]
  },
  {
   "cell_type": "code",
   "execution_count": 3,
   "id": "01df4d7b",
   "metadata": {},
   "outputs": [],
   "source": [
    "# data cleanup and segregation of call & put options\n",
    "optionsData['Strike'] = optionsData['Strike x 1000']/1000\n",
    "optionsDataCleaned = optionsData[optionsData.Volume >= 100]\n",
    "optionsDataCleaned = optionsDataCleaned[['Trade dAte', 'Expiry Date', 'Put=1 Call=0', 'Strike', 'Bid Price', 'Ask Price', 'Volume', 'Implied Vol', 'Delta ', 'Open Interest', 'Vega']]\n",
    "optionsDataCleaned.reset_index(inplace=True, drop=True)\n",
    "# print(\"Options Data Cleaned shape: \", optionsDataCleaned.shape)\n",
    "\n",
    "# call data\n",
    "callData = optionsDataCleaned[optionsDataCleaned['Put=1 Call=0'] == 0]\n",
    "callData = callData[callData.columns.drop('Put=1 Call=0')]\n",
    "callData.reset_index(inplace=True, drop=True)\n",
    "# print(\"\\nCall Data shape: \", callData.shape)\n",
    "callData.to_csv(path_or_buf='output resources/CallData.csv', index=False)\n",
    "\n",
    "# put data\n",
    "putData = optionsDataCleaned[optionsDataCleaned['Put=1 Call=0'] == 1]\n",
    "putData = putData[putData.columns.drop('Put=1 Call=0')]\n",
    "putData.reset_index(inplace=True, drop=True)\n",
    "# print(\"\\nPut Data shape: \", putData.shape)\n",
    "putData.to_csv(path_or_buf='output resources/PutData.csv', index=False)"
   ]
  },
  {
   "cell_type": "markdown",
   "id": "de25a74e",
   "metadata": {},
   "source": [
    "---"
   ]
  },
  {
   "cell_type": "markdown",
   "id": "007644d3",
   "metadata": {},
   "source": [
    "### Q1 (a) Obtaing the appropriate interest rate "
   ]
  },
  {
   "cell_type": "code",
   "execution_count": 4,
   "id": "49e44909",
   "metadata": {},
   "outputs": [
    {
     "data": {
      "text/html": [
       "<div>\n",
       "<style scoped>\n",
       "    .dataframe tbody tr th:only-of-type {\n",
       "        vertical-align: middle;\n",
       "    }\n",
       "\n",
       "    .dataframe tbody tr th {\n",
       "        vertical-align: top;\n",
       "    }\n",
       "\n",
       "    .dataframe thead th {\n",
       "        text-align: right;\n",
       "    }\n",
       "</style>\n",
       "<table border=\"1\" class=\"dataframe\">\n",
       "  <thead>\n",
       "    <tr style=\"text-align: right;\">\n",
       "      <th></th>\n",
       "      <th>Date</th>\n",
       "      <th>Days</th>\n",
       "      <th>Rate</th>\n",
       "    </tr>\n",
       "  </thead>\n",
       "  <tbody>\n",
       "    <tr>\n",
       "      <th>90968</th>\n",
       "      <td>18/03/2004</td>\n",
       "      <td>11</td>\n",
       "      <td>1.082028</td>\n",
       "    </tr>\n",
       "    <tr>\n",
       "      <th>90969</th>\n",
       "      <td>18/03/2004</td>\n",
       "      <td>34</td>\n",
       "      <td>1.103620</td>\n",
       "    </tr>\n",
       "    <tr>\n",
       "      <th>90970</th>\n",
       "      <td>18/03/2004</td>\n",
       "      <td>62</td>\n",
       "      <td>1.116676</td>\n",
       "    </tr>\n",
       "    <tr>\n",
       "      <th>90971</th>\n",
       "      <td>18/03/2004</td>\n",
       "      <td>90</td>\n",
       "      <td>1.127123</td>\n",
       "    </tr>\n",
       "    <tr>\n",
       "      <th>90972</th>\n",
       "      <td>18/03/2004</td>\n",
       "      <td>125</td>\n",
       "      <td>1.140654</td>\n",
       "    </tr>\n",
       "  </tbody>\n",
       "</table>\n",
       "</div>"
      ],
      "text/plain": [
       "             Date  Days      Rate\n",
       "90968  18/03/2004    11  1.082028\n",
       "90969  18/03/2004    34  1.103620\n",
       "90970  18/03/2004    62  1.116676\n",
       "90971  18/03/2004    90  1.127123\n",
       "90972  18/03/2004   125  1.140654"
      ]
     },
     "execution_count": 4,
     "metadata": {},
     "output_type": "execute_result"
    }
   ],
   "source": [
    "# load the Zero Rate data for our trade date\n",
    "zeroRateData = pd.read_csv(\"input resources/ZeroCurve.csv\")\n",
    "zeroRateData = zeroRateData[zeroRateData.Date == '18/03/2004']\n",
    "# print(\"Size: \", zeroRateData.shape)\n",
    "zeroRateData.head()"
   ]
  },
  {
   "cell_type": "code",
   "execution_count": 5,
   "id": "cd954e05",
   "metadata": {},
   "outputs": [
    {
     "name": "stdout",
     "output_type": "stream",
     "text": [
      "Time to option expiry:  0.0821917808219178\n",
      "\n",
      "Relevant zero rate:  0.011036200000000001\n"
     ]
    }
   ],
   "source": [
    "# pick the most relevant rate that corresponds to the duration of our option till expiration\n",
    "optionExpiryDays = 30\n",
    "timeToExpiry = optionExpiryDays / 365\n",
    "zeroRate = (zeroRateData.iloc[(zeroRateData.Days - optionExpiryDays).abs().argmin()]['Rate']) / 100\n",
    "print(\"Time to option expiry: \", timeToExpiry)\n",
    "print(\"\\nRelevant zero rate: \", zeroRate)"
   ]
  },
  {
   "cell_type": "markdown",
   "id": "eb529907",
   "metadata": {},
   "source": [
    "---"
   ]
  },
  {
   "cell_type": "markdown",
   "id": "fbc54eaa",
   "metadata": {},
   "source": [
    "### Q1 (b) Obtain the relevant dividend yield rate for the SPX500 "
   ]
  },
  {
   "cell_type": "code",
   "execution_count": 6,
   "id": "d419cbb2",
   "metadata": {},
   "outputs": [
    {
     "name": "stdout",
     "output_type": "stream",
     "text": [
      "Relevant dividend yield:  0.016322859999999998\n"
     ]
    }
   ],
   "source": [
    "# load the SPX Div Yield data for our trade date\n",
    "divYieldData = pd.read_csv(\"input resources/SPXDivYield.csv\")\n",
    "divYield = (divYieldData[divYieldData.Date == '18/03/2004']['Rate'].item()) / 100\n",
    "print(\"Relevant dividend yield: \", divYield)"
   ]
  },
  {
   "cell_type": "markdown",
   "id": "47c0a0e3",
   "metadata": {},
   "source": [
    "---"
   ]
  },
  {
   "cell_type": "markdown",
   "id": "714ca479",
   "metadata": {},
   "source": [
    "### Q1 (c) Price the option using BSM formula and compare to the mid-point of corresponding option bid/ask spread."
   ]
  },
  {
   "cell_type": "code",
   "execution_count": 7,
   "id": "2c73aa24",
   "metadata": {
    "scrolled": true
   },
   "outputs": [
    {
     "name": "stdout",
     "output_type": "stream",
     "text": [
      "Spot Price of SPX on trade date:  1122.319946\n"
     ]
    }
   ],
   "source": [
    "# load the SPX Daily data for our trade date\n",
    "spxDailyData = pd.read_csv(\"input resources/SPXDaily1950.csv\")\n",
    "spxSpot = spxDailyData[spxDailyData.Date == '18/03/04']['Adj Close'].item()\n",
    "print(\"Spot Price of SPX on trade date: \", spxSpot)"
   ]
  },
  {
   "cell_type": "markdown",
   "id": "671bf953",
   "metadata": {},
   "source": [
    "Fetch call & put options with strike ~ spot price of the underlying (SPX) on our trade date (ATM)"
   ]
  },
  {
   "cell_type": "code",
   "execution_count": 8,
   "id": "fb990732",
   "metadata": {},
   "outputs": [],
   "source": [
    "callAtmData = callData.iloc[(callData.Strike - spxSpot).abs().argmin()]\n",
    "putAtmData = putData.iloc[(putData.Strike - spxSpot).abs().argmin()]"
   ]
  },
  {
   "cell_type": "code",
   "execution_count": 9,
   "id": "bf2570fc",
   "metadata": {},
   "outputs": [],
   "source": [
    "class BsOption:\n",
    "    '''\n",
    "    The BsOption object is used to calculate the option price\n",
    "    for both calls and puts using the BS formula\n",
    "\n",
    "    Args:\n",
    "        spot (float): Spot price of underlying\n",
    "        strike (float): Strike price of option\n",
    "        time (float): Time to option expiry (annualised)\n",
    "        intRate (float): Risk-free interest rate\n",
    "        sigma (float): Implied volatility of the underlying (annualised)\n",
    "        divY (float): Dividend yield of underlying (annualised)\n",
    "\n",
    "    Attributes:\n",
    "        S (float): This is where we store spot\n",
    "        K (float): This is where we store strike\n",
    "        T (float): This is where we store time to expiry\n",
    "        r (float): This is where we store int rate\n",
    "        sigma (float): This is where we store Imp vol\n",
    "        q (float): This is where we store div yield\n",
    "    '''\n",
    "    \n",
    "    def __init__(self, spot, strike, time, intRate, sigma, divY=0):\n",
    "        self.S = spot\n",
    "        self.K = strike\n",
    "        self.T = time\n",
    "        self.r = intRate \n",
    "        self.sigma = sigma\n",
    "        self.q = divY\n",
    "        \n",
    "    \n",
    "    @staticmethod\n",
    "    def N(x):\n",
    "        '''\n",
    "        Returns CDF\n",
    "        '''\n",
    "        return norm.cdf(x)\n",
    "    \n",
    "    @staticmethod\n",
    "    def N_prime(x):\n",
    "        '''\n",
    "        Returns PDF\n",
    "        '''\n",
    "        return norm.pdf(x)\n",
    "        \n",
    "    @property\n",
    "    def params(self):\n",
    "        return {'S': self.S, \n",
    "                'K': self.K, \n",
    "                'T': self.T, \n",
    "                'r':self.r,\n",
    "                'q':self.q,\n",
    "                'sigma':self.sigma}\n",
    "    \n",
    "    def d1(self):\n",
    "        '''Computes the d1 element of BS formula\n",
    "\n",
    "        Returns:\n",
    "            (float): value of d1 in the BS formula\n",
    "        '''\n",
    "        return (np.log(self.S/self.K) + (self.r -self.q + (self.sigma**2/2))*self.T) \\\n",
    "                                / (self.sigma*np.sqrt(self.T))\n",
    "    \n",
    "    def d2(self):\n",
    "        '''Computes the d2 element of BS formula\n",
    "\n",
    "        Returns:\n",
    "            (float): value of d2 in the BS formula\n",
    "        '''\n",
    "        return self.d1() - self.sigma*np.sqrt(self.T)\n",
    "    \n",
    "    def _call_value(self):\n",
    "        '''Computes the call option price using the BS formula\n",
    "\n",
    "        Returns:\n",
    "            (float): call option price\n",
    "        '''\n",
    "        return self.S*np.exp(-self.q*self.T)*self.N(self.d1()) - \\\n",
    "                    self.K*np.exp(-self.r*self.T) * self.N(self.d2())\n",
    "                    \n",
    "    def _put_value(self):\n",
    "        '''Computes the put option price using the BS formula\n",
    "\n",
    "        Returns:\n",
    "            (float): put option price\n",
    "        '''\n",
    "        return self.K*np.exp(-self.r*self.T) * self.N(-self.d2()) -\\\n",
    "                self.S*np.exp(-self.q*self.T)*self.N(-self.d1())\n",
    "    \n",
    "    def price(self, optType = 'C'):\n",
    "        '''Returns the corresponding option price computed using BS formula\n",
    "\n",
    "        Args:\n",
    "            optType (str): option type (C for call, P for put)\n",
    "\n",
    "        Raises:\n",
    "            ValueError: Unrecognized option type\n",
    "\n",
    "        Returns:\n",
    "            (float): option price\n",
    "        '''\n",
    "        if optType == 'C':\n",
    "            return self._call_value()\n",
    "        if optType == 'P':\n",
    "            return self._put_value()\n",
    "        else:\n",
    "            raise ValueError('Unrecognized option type: please input either C for call or P for put')"
   ]
  },
  {
   "cell_type": "code",
   "execution_count": 10,
   "id": "d9a50a97",
   "metadata": {},
   "outputs": [
    {
     "name": "stdout",
     "output_type": "stream",
     "text": [
      "BS option price for ATM call:  22.774385380631315\n",
      "\n",
      "Bid-Ask mid point value for ATM call option:  22.05\n"
     ]
    }
   ],
   "source": [
    "# compute the BS price for call ATM option\n",
    "callAtmPrice = BsOption(spot=spxSpot, strike=callAtmData.Strike, time=timeToExpiry, intRate=zeroRate, divY=divYield, sigma=callAtmData['Implied Vol']).price(optType='C')\n",
    "print(\"BS option price for ATM call: \", callAtmPrice)\n",
    "\n",
    "# compute Call ATM bid-ask mid value\n",
    "callAtmBidAskMid = (callAtmData['Bid Price'] + callAtmData['Ask Price']) / 2\n",
    "print(\"\\nBid-Ask mid point value for ATM call option: \", callAtmBidAskMid)"
   ]
  },
  {
   "cell_type": "code",
   "execution_count": 11,
   "id": "ac01e219",
   "metadata": {},
   "outputs": [
    {
     "name": "stdout",
     "output_type": "stream",
     "text": [
      "BS option price for ATM put:  19.62424974016028\n",
      "\n",
      "Bid-Ask mid point value for ATM put option:  16.55\n"
     ]
    }
   ],
   "source": [
    "# compute the BS price for put ATM option\n",
    "putAtmPrice = BsOption(spot=spxSpot, strike=putAtmData.Strike, time=timeToExpiry, intRate=zeroRate, divY=divYield, sigma=putAtmData['Implied Vol']).price(optType='P')\n",
    "print(\"BS option price for ATM put: \", putAtmPrice)\n",
    "\n",
    "# compute put ATM bid-ask mid value\n",
    "putAtmBidAskMid = (putAtmData['Bid Price'] + putAtmData['Ask Price']) / 2\n",
    "print(\"\\nBid-Ask mid point value for ATM put option: \", putAtmBidAskMid)"
   ]
  },
  {
   "cell_type": "markdown",
   "id": "695c39de",
   "metadata": {},
   "source": [
    "---"
   ]
  },
  {
   "cell_type": "markdown",
   "id": "4f006e5b",
   "metadata": {},
   "source": [
    "### Q1 (d) Find an implied volatility for which the B-S-M formula price matches the midpoint of the Option Metrics Bid/Ask spread exactly"
   ]
  },
  {
   "cell_type": "markdown",
   "id": "3dad26c6",
   "metadata": {},
   "source": [
    "We'll use the Newton Raphson Method, the fastest root-finding approximation method, to compute the implied volatility for which the BSM price matches exactly with the mid-point of ATM call bid-ask spread."
   ]
  },
  {
   "cell_type": "markdown",
   "id": "5b08ce57",
   "metadata": {},
   "source": [
    "#### Newton Raphson Method:"
   ]
  },
  {
   "cell_type": "markdown",
   "id": "6e1be2fd",
   "metadata": {},
   "source": [
    " $\\text{It's given by the equation, }$\n",
    " $$\\displaystyle{x}_{n+1} = {x}_{n} - \\frac{f({x}_{n})} {f^{'}({x}_{n})}$$\n",
    " \n",
    " $\\text{where}$ $\\displaystyle f({x}_{n})$ $\\text{is a function that is the theoretical (BS) option price – the actual option price,}$ \n",
    " $\\displaystyle f^{'}({x}_{n})$ $\\text{is the Vega, or the option price sensitivity to implied volatility}$\n",
    " $$\\displaystyle f^{'}({x}_{n}) = {S}{N}^{'}(d_{1})\\sqrt{T}$$"
   ]
  },
  {
   "cell_type": "code",
   "execution_count": 12,
   "id": "3e9cf808",
   "metadata": {},
   "outputs": [],
   "source": [
    "def compute_sigma_newton(S, K, r, t, q, actual_price, c_p, maxIterations=1000, diffThreshold=0.01):\n",
    "    # assume the starting sigma to be 0.5, which is just an arbitrary number\n",
    "    _sigma = 0.5 \n",
    "    \n",
    "    for i in range(maxIterations):\n",
    "        _bsOptionObj = BsOption(spot=S, strike=K, time=t, intRate=r, divY=q, sigma=_sigma)\n",
    "        _bs_price = _bsOptionObj.price(optType=c_p)\n",
    "        _diff = actual_price - _bs_price\n",
    "        _pdf = _bsOptionObj.N_prime(_bsOptionObj.d1())\n",
    "        _vega = S * _pdf * sqrt(t)\n",
    "        if abs(_diff) < diffThreshold:\n",
    "            return _sigma\n",
    "        _sigma += _diff/_vega\n",
    "        \n",
    "    return _sigma"
   ]
  },
  {
   "cell_type": "code",
   "execution_count": 13,
   "id": "96463bc9",
   "metadata": {},
   "outputs": [
    {
     "name": "stdout",
     "output_type": "stream",
     "text": [
      "Computed implied vol for ATM call:  0.16496548488548052\n",
      "\n",
      "Actual implied vol used for ATM call BS price:  0.17058\n"
     ]
    }
   ],
   "source": [
    "# compute the implied vol for ATM call option\n",
    "callAtmCalIv = compute_sigma_newton(S=spxSpot, K=callAtmData.Strike,  \n",
    "                                                                  r=zeroRate, t=timeToExpiry, \n",
    "                                                                q=divYield, actual_price=callAtmBidAskMid, c_p='C')\n",
    "print(\"Computed implied vol for ATM call: \", callAtmCalIv)\n",
    "print(\"\\nActual implied vol used for ATM call BS price: \", callAtmData['Implied Vol'])"
   ]
  },
  {
   "cell_type": "code",
   "execution_count": 14,
   "id": "ca3fd9d6",
   "metadata": {},
   "outputs": [
    {
     "name": "stdout",
     "output_type": "stream",
     "text": [
      "Computed implied vol for ATM put:  0.1362815586597252\n",
      "\n",
      "Actual implied vol used for ATM put BS price:  0.16027\n"
     ]
    }
   ],
   "source": [
    "# compute the implied vol for ATM put option\n",
    "putAtmCalIv = compute_sigma_newton(S=spxSpot, K=putAtmData.Strike,  \n",
    "                                                                  r=zeroRate, t=timeToExpiry, \n",
    "                                                                q=divYield, actual_price=putAtmBidAskMid, c_p='P')\n",
    "print(\"Computed implied vol for ATM put: \", putAtmCalIv)\n",
    "print(\"\\nActual implied vol used for ATM put BS price: \", putAtmData['Implied Vol'])"
   ]
  },
  {
   "cell_type": "markdown",
   "id": "2f40ef50",
   "metadata": {},
   "source": [
    "---"
   ]
  },
  {
   "cell_type": "markdown",
   "id": "7615c270",
   "metadata": {},
   "source": [
    "### Q1 (e) Does this match the implied volatility in the Option Metrics data?\n",
    "\n",
    "TODO\n",
    "\n",
    "---\n",
    "---"
   ]
  },
  {
   "cell_type": "markdown",
   "id": "f0e892cc",
   "metadata": {},
   "source": [
    "### Q2 (a) The sensitivity of the Black-Scholes option price to changes in volatility, σ (from σ =5% to σ =80% in steps of 5%)"
   ]
  },
  {
   "cell_type": "code",
   "execution_count": 15,
   "id": "33e49d34",
   "metadata": {
    "run_control": {
     "marked": false
    }
   },
   "outputs": [
    {
     "data": {
      "text/plain": [
       "<matplotlib.legend.Legend at 0x12ba6f1f0>"
      ]
     },
     "execution_count": 15,
     "metadata": {},
     "output_type": "execute_result"
    },
    {
     "data": {
      "image/png": "[encoded data removed]",
      "text/plain": [
       "<Figure size 640x480 with 1 Axes>"
      ]
     },
     "metadata": {},
     "output_type": "display_data"
    }
   ],
   "source": [
    "# Range of values from 5% to 80% in steps of 5%\n",
    "sigmaRange = np.arange(0.05, 0.85, 0.05)\n",
    "\n",
    "callPricesForSigma = [BsOption(spot=spxSpot, strike=callAtmData.Strike, time=timeToExpiry, \\\n",
    "                               intRate=zeroRate, divY=divYield, sigma=sig) \n",
    "                      .price(optType='C') for sig in sigmaRange]\n",
    "putPricesForSigma = [BsOption(spot=spxSpot, strike=putAtmData.Strike, time=timeToExpiry, \\\n",
    "                               intRate=zeroRate, divY=divYield, sigma=sig) \n",
    "                      .price(optType='P') for sig in sigmaRange]\n",
    "\n",
    "# plot the sigma values against call & put prices\n",
    "plt.plot(sigmaRange, callPricesForSigma, label='Call Option Prices')\n",
    "plt.plot(sigmaRange, putPricesForSigma, label='Put Option Prices')\n",
    "plt.xlabel('$\\sigma$ (volatility)')\n",
    "plt.ylabel('Option Prices')\n",
    "plt.title('Sensitivity to volatility')\n",
    "plt.legend()"
   ]
  },
  {
   "cell_type": "markdown",
   "id": "bd2d2301",
   "metadata": {},
   "source": [
    "As we would expect, when we hold the other variables constant, and increase the volatility parameter both calls and puts increase in value, in what appears to be a linear fashion as shown below.\n",
    "\n",
    "To understand why the calls value seems to be greater than the put with respect to volatility, change the interest rate 'r' to 0 and notice that the curve coincide exactly. Rather than making plots for the effect on interest rates, we can deduce from this that an increase in interest rates increases the value of calls and decreases the value of puts. \n",
    "\n",
    "---\n"
   ]
  },
  {
   "cell_type": "markdown",
   "id": "064445ff",
   "metadata": {},
   "source": [
    "### Q2 (b) Using delta and gamma in a Taylor series expansion, superimpose a plot of the projected price around the price of your option using a grid of price changes in the range -30% to +30%."
   ]
  },
  {
   "cell_type": "markdown",
   "id": "6ff75f70",
   "metadata": {},
   "source": [
    "TODO\n",
    "\n",
    "---"
   ]
  },
  {
   "cell_type": "markdown",
   "id": "56ee00e1",
   "metadata": {},
   "source": [
    "### Q2 (c) The sensitivity of the Black-Scholes option price to changes in the time to maturity T (T= 1 week, 1 month, 1 quarter, 6 months, 1 year, 5 years)"
   ]
  },
  {
   "cell_type": "code",
   "execution_count": 16,
   "id": "b926ef57",
   "metadata": {},
   "outputs": [
    {
     "data": {
      "text/plain": [
       "<matplotlib.legend.Legend at 0x12c4b6220>"
      ]
     },
     "execution_count": 16,
     "metadata": {},
     "output_type": "execute_result"
    },
    {
     "data": {
      "image/png": "[encoded data removed]",
      "text/plain": [
       "<Figure size 640x480 with 1 Axes>"
      ]
     },
     "metadata": {},
     "output_type": "display_data"
    }
   ],
   "source": [
    "# Time range from 1 week to 5 years (all annualised)\n",
    "expiryTimeRange = [7.0/365, 30.0/365, 90.0/365, 180.0/365, 1.0, 5.0]\n",
    "\n",
    "callPricesForTime = [BsOption(spot=spxSpot, strike=callAtmData.Strike, time=time, \\\n",
    "                               intRate=zeroRate, divY=divYield, sigma=callAtmCalIv) \n",
    "                      .price(optType='C') for time in expiryTimeRange]\n",
    "putPricesForTime = [BsOption(spot=spxSpot, strike=putAtmData.Strike, time=time, \\\n",
    "                               intRate=zeroRate, divY=divYield, sigma=putAtmCalIv) \n",
    "                      .price(optType='P') for time in expiryTimeRange]\n",
    "\n",
    "# plot the time to expiry values against call & put prices\n",
    "plt.plot(expiryTimeRange, callPricesForTime, label='Call Option Prices')\n",
    "plt.plot(expiryTimeRange, putPricesForTime, label='Put Option Prices')\n",
    "plt.xlabel('Time to expiry (in years)')\n",
    "plt.ylabel('Option Prices')\n",
    "plt.title('Sensitivity to time to expiry')\n",
    "plt.legend()"
   ]
  },
  {
   "cell_type": "markdown",
   "id": "c776c207",
   "metadata": {},
   "source": [
    "As we increase time we increase the uncertainty regarding the future price. Since uncertainty is to the options holder's benefit, the price of the option increases with time. Again, we can observe that by setting the interest rate to zero, the difference between puts and calls is eliminated.\n",
    "\n",
    "---"
   ]
  },
  {
   "cell_type": "markdown",
   "id": "662c0872",
   "metadata": {},
   "source": [
    "### Q2 (d) The sensitivity of the Black-Scholes option price to changes in the interest rate r. (e.g. r in the range 0% to 14%, in steps of 0.25%)"
   ]
  },
  {
   "cell_type": "code",
   "execution_count": 17,
   "id": "5f57c151",
   "metadata": {},
   "outputs": [
    {
     "data": {
      "text/plain": [
       "<matplotlib.legend.Legend at 0x12c54c0a0>"
      ]
     },
     "execution_count": 17,
     "metadata": {},
     "output_type": "execute_result"
    },
    {
     "data": {
      "image/png": "[encoded data removed]",
      "text/plain": [
       "<Figure size 640x480 with 1 Axes>"
      ]
     },
     "metadata": {},
     "output_type": "display_data"
    }
   ],
   "source": [
    "# Interest Rate range from 0% to 14% in steps of 0.25%\n",
    "intRateRange = np.arange(0, 0.1425, 0.0025)\n",
    "\n",
    "callPricesForInt = [BsOption(spot=spxSpot, strike=callAtmData.Strike, time=timeToExpiry, \\\n",
    "                               intRate=intR, divY=divYield, sigma=callAtmCalIv) \n",
    "                      .price(optType='C') for intR in intRateRange]\n",
    "putPricesForInt = [BsOption(spot=spxSpot, strike=putAtmData.Strike, time=timeToExpiry, \\\n",
    "                               intRate=intR, divY=divYield, sigma=putAtmCalIv) \n",
    "                      .price(optType='P') for intR in intRateRange]\n",
    "\n",
    "# plot the time to expiry values against call & put prices\n",
    "plt.plot(intRateRange, callPricesForInt, label='Call Option Prices')\n",
    "plt.plot(intRateRange, putPricesForInt, label='Put Option Prices')\n",
    "plt.xlabel('Risk-free rate (annualised)')\n",
    "plt.ylabel('Option Prices')\n",
    "plt.title('Sensitivity to interest rates')\n",
    "plt.legend()"
   ]
  },
  {
   "cell_type": "markdown",
   "id": "68488c95",
   "metadata": {},
   "source": [
    "As mentioned earlier, call option prices have a positive relationship with the risk-free interest rates, whereas, put option prices genrally tend to fall with any rise in interest rates. This can be observed in the above sensitivity plot.\n",
    "\n",
    "\n",
    "TODO: Compare and contrast the above results with regards to option theory and option hedging strategy.\n",
    "\n",
    "---\n",
    "---"
   ]
  },
  {
   "cell_type": "markdown",
   "id": "bc263ac2",
   "metadata": {},
   "source": [
    "## Q3"
   ]
  },
  {
   "cell_type": "code",
   "execution_count": 26,
   "id": "471fe891",
   "metadata": {},
   "outputs": [],
   "source": [
    "S = []\n",
    "K = 1230\n",
    "T = 1/12\n",
    "r = 0.0110362\n",
    "y = 0.01632286\n",
    "sigma = 0.156106\n",
    "\n",
    "bsm_q3 = []\n",
    "intrinsic_list = []\n",
    "\n",
    "#60% - 160% steps of 5%\n",
    "x = np.round(np.arange(0.6, 1.65, 0.05), decimals=2)\n",
    "for i in range(len(x)):\n",
    "    #multiply our current spot price with a range of possible index values\n",
    "    S.append(1122.319946*x[i])\n",
    "    #compute BSM with the aggregated spot price\n",
    "    res = BSM(K, T, S[i], r, y, sigma)\n",
    "    #store the option price to a list\n",
    "    bsm_q3.append(res[0])\n",
    "    #calculate intrinsic value\n",
    "    intrinsic = max(S[i]-K, 0)\n",
    "    #store the results to a list\n",
    "    intrinsic_list.append(intrinsic)"
   ]
  },
  {
   "cell_type": "code",
   "execution_count": 27,
   "id": "34e57775",
   "metadata": {},
   "outputs": [
    {
     "data": {
      "image/png": "[encoded data removed]",
      "text/plain": [
       "<Figure size 640x480 with 1 Axes>"
      ]
     },
     "metadata": {
      "needs_background": "light"
     },
     "output_type": "display_data"
    }
   ],
   "source": [
    "plt.figure(figsize=(8, 6), dpi=80)\n",
    "plt.plot(S, bsm_q3, label=\"BSM\")\n",
    "plt.plot(S, intrinsic_list, '-.', label=\"Intrinsic\")\n",
    "\n",
    "plt.xlabel(\"Stock Price (S)\")\n",
    "plt.ylabel(\"Option Price\")\n",
    "plt.title(\"Call's Intrinsic vs BSM price\")\n",
    "plt.legend()\n",
    "plt.show()"
   ]
  },
  {
   "cell_type": "code",
   "execution_count": null,
   "id": "b83d7c41",
   "metadata": {},
   "outputs": [],
   "source": []
  },
  {
   "cell_type": "code",
   "execution_count": null,
   "id": "0ee8e0e8",
   "metadata": {},
   "outputs": [],
   "source": []
  }
 ],
 "metadata": {
  "kernelspec": {
   "display_name": "Python 3 (ipykernel)",
   "language": "python",
   "name": "python3"
  },
  "language_info": {
   "codemirror_mode": {
    "name": "ipython",
    "version": 3
   },
   "file_extension": ".py",
   "mimetype": "text/x-python",
   "name": "python",
   "nbconvert_exporter": "python",
   "pygments_lexer": "ipython3",
   "version": "3.8.15"
  }
 },
 "nbformat": 4,
 "nbformat_minor": 5
}
